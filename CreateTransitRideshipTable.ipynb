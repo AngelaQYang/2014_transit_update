{
 "cells": [
  {
   "cell_type": "code",
   "execution_count": 317,
   "metadata": {
    "collapsed": true
   },
   "outputs": [],
   "source": [
    "import pandas as pd\n",
    "import numpy as np \n",
    "%matplotlib inline "
   ]
  },
  {
   "cell_type": "code",
   "execution_count": 318,
   "metadata": {
    "collapsed": true
   },
   "outputs": [],
   "source": [
    "path = 'R:/2014_Base_Year/ValidationData/Transit/'"
   ]
  },
  {
   "cell_type": "code",
   "execution_count": 319,
   "metadata": {
    "collapsed": true
   },
   "outputs": [],
   "source": [
    "data_set = {}\n",
    "data_set[1] = 'KC Metro/spring2014_trip_data.csv' # KC Metro\n",
    "# Pierce Transit\n",
    "data_set[3] = 'CT/March14Ridership.csv' # Community Transit\n",
    "# Kitsap Transit\n",
    "# WSF(ferries)\n",
    "# Sound Transit"
   ]
  },
  {
   "cell_type": "code",
   "execution_count": 320,
   "metadata": {
    "collapsed": true
   },
   "outputs": [],
   "source": [
    "# Which dataset you would like to run\n",
    "n = 3"
   ]
  },
  {
   "cell_type": "code",
   "execution_count": 321,
   "metadata": {
    "collapsed": false
   },
   "outputs": [],
   "source": [
    "data = pd.read_csv(path + data_set[n])"
   ]
  },
  {
   "cell_type": "code",
   "execution_count": 322,
   "metadata": {
    "collapsed": false
   },
   "outputs": [
    {
     "data": {
      "text/plain": [
       "Index([u'Time Period', u'Hour_', u'SignRt', u'Direction', u'Rides'], dtype='object')"
      ]
     },
     "execution_count": 322,
     "metadata": {},
     "output_type": "execute_result"
    }
   ],
   "source": [
    "data.columns"
   ]
  },
  {
   "cell_type": "code",
   "execution_count": 323,
   "metadata": {
    "collapsed": false
   },
   "outputs": [],
   "source": [
    "df = data[['SignRt', 'Hour_', 'Rides']]"
   ]
  },
  {
   "cell_type": "code",
   "execution_count": 324,
   "metadata": {
    "collapsed": false
   },
   "outputs": [
    {
     "data": {
      "text/html": [
       "<div>\n",
       "<table border=\"1\" class=\"dataframe\">\n",
       "  <thead>\n",
       "    <tr style=\"text-align: right;\">\n",
       "      <th></th>\n",
       "      <th>SignRt</th>\n",
       "      <th>Hour_</th>\n",
       "      <th>Rides</th>\n",
       "    </tr>\n",
       "  </thead>\n",
       "  <tbody>\n",
       "    <tr>\n",
       "      <th>0</th>\n",
       "      <td>201</td>\n",
       "      <td>4</td>\n",
       "      <td>1.43</td>\n",
       "    </tr>\n",
       "    <tr>\n",
       "      <th>1</th>\n",
       "      <td>105</td>\n",
       "      <td>4</td>\n",
       "      <td>3.10</td>\n",
       "    </tr>\n",
       "    <tr>\n",
       "      <th>2</th>\n",
       "      <td>201</td>\n",
       "      <td>4</td>\n",
       "      <td>7.19</td>\n",
       "    </tr>\n",
       "    <tr>\n",
       "      <th>3</th>\n",
       "      <td>202</td>\n",
       "      <td>4</td>\n",
       "      <td>0.00</td>\n",
       "    </tr>\n",
       "    <tr>\n",
       "      <th>4</th>\n",
       "      <td>227</td>\n",
       "      <td>4</td>\n",
       "      <td>18.71</td>\n",
       "    </tr>\n",
       "  </tbody>\n",
       "</table>\n",
       "</div>"
      ],
      "text/plain": [
       "   SignRt  Hour_  Rides\n",
       "0     201      4   1.43\n",
       "1     105      4   3.10\n",
       "2     201      4   7.19\n",
       "3     202      4   0.00\n",
       "4     227      4  18.71"
      ]
     },
     "execution_count": 324,
     "metadata": {},
     "output_type": "execute_result"
    }
   ],
   "source": [
    "df.head()"
   ]
  },
  {
   "cell_type": "code",
   "execution_count": 325,
   "metadata": {
    "collapsed": false
   },
   "outputs": [],
   "source": [
    "df_sorted = df.groupby(['SignRt', 'Hour_'], as_index=False)"
   ]
  },
  {
   "cell_type": "code",
   "execution_count": 326,
   "metadata": {
    "collapsed": false
   },
   "outputs": [],
   "source": [
    "df_ridership = df_sorted.aggregate(np.sum)"
   ]
  },
  {
   "cell_type": "code",
   "execution_count": 327,
   "metadata": {
    "collapsed": false
   },
   "outputs": [
    {
     "data": {
      "text/html": [
       "<div>\n",
       "<table border=\"1\" class=\"dataframe\">\n",
       "  <thead>\n",
       "    <tr style=\"text-align: right;\">\n",
       "      <th></th>\n",
       "      <th>SignRt</th>\n",
       "      <th>Hour_</th>\n",
       "      <th>Rides</th>\n",
       "    </tr>\n",
       "  </thead>\n",
       "  <tbody>\n",
       "    <tr>\n",
       "      <th>0</th>\n",
       "      <td>101</td>\n",
       "      <td>5</td>\n",
       "      <td>31.00</td>\n",
       "    </tr>\n",
       "    <tr>\n",
       "      <th>1</th>\n",
       "      <td>101</td>\n",
       "      <td>6</td>\n",
       "      <td>51.48</td>\n",
       "    </tr>\n",
       "    <tr>\n",
       "      <th>2</th>\n",
       "      <td>101</td>\n",
       "      <td>7</td>\n",
       "      <td>74.48</td>\n",
       "    </tr>\n",
       "    <tr>\n",
       "      <th>3</th>\n",
       "      <td>101</td>\n",
       "      <td>8</td>\n",
       "      <td>87.09</td>\n",
       "    </tr>\n",
       "    <tr>\n",
       "      <th>4</th>\n",
       "      <td>101</td>\n",
       "      <td>9</td>\n",
       "      <td>92.28</td>\n",
       "    </tr>\n",
       "  </tbody>\n",
       "</table>\n",
       "</div>"
      ],
      "text/plain": [
       "   SignRt  Hour_  Rides\n",
       "0     101      5  31.00\n",
       "1     101      6  51.48\n",
       "2     101      7  74.48\n",
       "3     101      8  87.09\n",
       "4     101      9  92.28"
      ]
     },
     "execution_count": 327,
     "metadata": {},
     "output_type": "execute_result"
    }
   ],
   "source": [
    "df_ridership.head()"
   ]
  },
  {
   "cell_type": "code",
   "execution_count": 328,
   "metadata": {
    "collapsed": false
   },
   "outputs": [],
   "source": [
    "df_table = df_ridership.pivot(index='SignRt', columns='Hour_', values='Rides').fillna(0)"
   ]
  },
  {
   "cell_type": "code",
   "execution_count": 329,
   "metadata": {
    "collapsed": false
   },
   "outputs": [],
   "source": [
    "# Add route ID \n",
    "df_table['Sign_Rt'] = df_table.index\n",
    "df_table['PSRC_Rte_ID'] = df_table.apply(lambda row: row['Sign_Rt'] + n*1000, axis=1)"
   ]
  },
  {
   "cell_type": "code",
   "execution_count": 330,
   "metadata": {
    "collapsed": true
   },
   "outputs": [],
   "source": [
    "# refine table\n",
    "cols = df_table.columns.tolist()\n",
    "cols = cols[-2:] + cols[:-2]\n",
    "df_table = df_table[cols]\n",
    "df_table.index.name = None\n",
    "df_table = df_table.reset_index(drop=True)"
   ]
  },
  {
   "cell_type": "code",
   "execution_count": 331,
   "metadata": {
    "collapsed": false
   },
   "outputs": [
    {
     "data": {
      "text/html": [
       "<div>\n",
       "<table border=\"1\" class=\"dataframe\">\n",
       "  <thead>\n",
       "    <tr style=\"text-align: right;\">\n",
       "      <th>Hour_</th>\n",
       "      <th>Sign_Rt</th>\n",
       "      <th>PSRC_Rte_ID</th>\n",
       "      <th>4</th>\n",
       "      <th>5</th>\n",
       "      <th>6</th>\n",
       "      <th>7</th>\n",
       "      <th>8</th>\n",
       "      <th>9</th>\n",
       "      <th>10</th>\n",
       "      <th>11</th>\n",
       "      <th>...</th>\n",
       "      <th>14</th>\n",
       "      <th>15</th>\n",
       "      <th>16</th>\n",
       "      <th>17</th>\n",
       "      <th>18</th>\n",
       "      <th>19</th>\n",
       "      <th>20</th>\n",
       "      <th>21</th>\n",
       "      <th>22</th>\n",
       "      <th>23</th>\n",
       "    </tr>\n",
       "  </thead>\n",
       "  <tbody>\n",
       "    <tr>\n",
       "      <th>0</th>\n",
       "      <td>101</td>\n",
       "      <td>3101</td>\n",
       "      <td>0.0</td>\n",
       "      <td>31.00</td>\n",
       "      <td>51.48</td>\n",
       "      <td>74.48</td>\n",
       "      <td>87.09</td>\n",
       "      <td>92.28</td>\n",
       "      <td>91.66</td>\n",
       "      <td>77.47</td>\n",
       "      <td>...</td>\n",
       "      <td>114.67</td>\n",
       "      <td>108.81</td>\n",
       "      <td>103.62</td>\n",
       "      <td>93.52</td>\n",
       "      <td>85.52</td>\n",
       "      <td>66.76</td>\n",
       "      <td>63.19</td>\n",
       "      <td>48.19</td>\n",
       "      <td>20.10</td>\n",
       "      <td>2.19</td>\n",
       "    </tr>\n",
       "    <tr>\n",
       "      <th>1</th>\n",
       "      <td>105</td>\n",
       "      <td>3105</td>\n",
       "      <td>3.1</td>\n",
       "      <td>25.62</td>\n",
       "      <td>35.29</td>\n",
       "      <td>65.29</td>\n",
       "      <td>54.95</td>\n",
       "      <td>50.57</td>\n",
       "      <td>57.10</td>\n",
       "      <td>53.57</td>\n",
       "      <td>...</td>\n",
       "      <td>64.24</td>\n",
       "      <td>78.05</td>\n",
       "      <td>72.77</td>\n",
       "      <td>53.66</td>\n",
       "      <td>34.91</td>\n",
       "      <td>31.33</td>\n",
       "      <td>22.43</td>\n",
       "      <td>12.53</td>\n",
       "      <td>2.76</td>\n",
       "      <td>0.00</td>\n",
       "    </tr>\n",
       "    <tr>\n",
       "      <th>2</th>\n",
       "      <td>106</td>\n",
       "      <td>3106</td>\n",
       "      <td>0.0</td>\n",
       "      <td>5.56</td>\n",
       "      <td>31.90</td>\n",
       "      <td>35.04</td>\n",
       "      <td>14.10</td>\n",
       "      <td>0.00</td>\n",
       "      <td>0.00</td>\n",
       "      <td>0.00</td>\n",
       "      <td>...</td>\n",
       "      <td>0.00</td>\n",
       "      <td>0.00</td>\n",
       "      <td>27.71</td>\n",
       "      <td>43.67</td>\n",
       "      <td>26.86</td>\n",
       "      <td>1.96</td>\n",
       "      <td>0.00</td>\n",
       "      <td>0.00</td>\n",
       "      <td>0.00</td>\n",
       "      <td>0.00</td>\n",
       "    </tr>\n",
       "    <tr>\n",
       "      <th>3</th>\n",
       "      <td>110</td>\n",
       "      <td>3110</td>\n",
       "      <td>0.0</td>\n",
       "      <td>0.00</td>\n",
       "      <td>6.81</td>\n",
       "      <td>18.62</td>\n",
       "      <td>14.34</td>\n",
       "      <td>0.00</td>\n",
       "      <td>0.00</td>\n",
       "      <td>0.00</td>\n",
       "      <td>...</td>\n",
       "      <td>0.00</td>\n",
       "      <td>0.00</td>\n",
       "      <td>14.48</td>\n",
       "      <td>15.85</td>\n",
       "      <td>6.76</td>\n",
       "      <td>0.00</td>\n",
       "      <td>0.00</td>\n",
       "      <td>0.00</td>\n",
       "      <td>0.00</td>\n",
       "      <td>0.00</td>\n",
       "    </tr>\n",
       "    <tr>\n",
       "      <th>4</th>\n",
       "      <td>111</td>\n",
       "      <td>3111</td>\n",
       "      <td>0.0</td>\n",
       "      <td>2.81</td>\n",
       "      <td>8.14</td>\n",
       "      <td>8.24</td>\n",
       "      <td>0.76</td>\n",
       "      <td>0.00</td>\n",
       "      <td>0.00</td>\n",
       "      <td>0.00</td>\n",
       "      <td>...</td>\n",
       "      <td>0.00</td>\n",
       "      <td>0.00</td>\n",
       "      <td>4.14</td>\n",
       "      <td>5.19</td>\n",
       "      <td>2.29</td>\n",
       "      <td>0.00</td>\n",
       "      <td>0.00</td>\n",
       "      <td>0.00</td>\n",
       "      <td>0.00</td>\n",
       "      <td>0.00</td>\n",
       "    </tr>\n",
       "  </tbody>\n",
       "</table>\n",
       "<p>5 rows × 22 columns</p>\n",
       "</div>"
      ],
      "text/plain": [
       "Hour_  Sign_Rt  PSRC_Rte_ID    4      5      6      7      8      9     10  \\\n",
       "0          101         3101  0.0  31.00  51.48  74.48  87.09  92.28  91.66   \n",
       "1          105         3105  3.1  25.62  35.29  65.29  54.95  50.57  57.10   \n",
       "2          106         3106  0.0   5.56  31.90  35.04  14.10   0.00   0.00   \n",
       "3          110         3110  0.0   0.00   6.81  18.62  14.34   0.00   0.00   \n",
       "4          111         3111  0.0   2.81   8.14   8.24   0.76   0.00   0.00   \n",
       "\n",
       "Hour_     11  ...       14      15      16     17     18     19     20     21  \\\n",
       "0      77.47  ...   114.67  108.81  103.62  93.52  85.52  66.76  63.19  48.19   \n",
       "1      53.57  ...    64.24   78.05   72.77  53.66  34.91  31.33  22.43  12.53   \n",
       "2       0.00  ...     0.00    0.00   27.71  43.67  26.86   1.96   0.00   0.00   \n",
       "3       0.00  ...     0.00    0.00   14.48  15.85   6.76   0.00   0.00   0.00   \n",
       "4       0.00  ...     0.00    0.00    4.14   5.19   2.29   0.00   0.00   0.00   \n",
       "\n",
       "Hour_     22    23  \n",
       "0      20.10  2.19  \n",
       "1       2.76  0.00  \n",
       "2       0.00  0.00  \n",
       "3       0.00  0.00  \n",
       "4       0.00  0.00  \n",
       "\n",
       "[5 rows x 22 columns]"
      ]
     },
     "execution_count": 331,
     "metadata": {},
     "output_type": "execute_result"
    }
   ],
   "source": [
    "df_table.head()"
   ]
  },
  {
   "cell_type": "code",
   "execution_count": 332,
   "metadata": {
    "collapsed": false
   },
   "outputs": [],
   "source": [
    "df_table.to_csv(path + str(n) + '.csv')"
   ]
  },
  {
   "cell_type": "code",
   "execution_count": null,
   "metadata": {
    "collapsed": true
   },
   "outputs": [],
   "source": []
  }
 ],
 "metadata": {
  "kernelspec": {
   "display_name": "Python 2",
   "language": "python",
   "name": "python2"
  },
  "language_info": {
   "codemirror_mode": {
    "name": "ipython",
    "version": 2
   },
   "file_extension": ".py",
   "mimetype": "text/x-python",
   "name": "python",
   "nbconvert_exporter": "python",
   "pygments_lexer": "ipython2",
   "version": "2.7.11"
  }
 },
 "nbformat": 4,
 "nbformat_minor": 0
}
